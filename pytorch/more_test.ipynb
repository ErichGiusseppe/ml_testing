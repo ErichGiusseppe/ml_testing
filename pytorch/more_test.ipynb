{
 "cells": [
  {
   "cell_type": "code",
   "execution_count": null,
   "id": "aaf85048",
   "metadata": {},
   "outputs": [],
   "source": [
    "import torch \n",
    "from torch import nn\n",
    "from torch.utils.data import DataLoader\n",
    "from torchvision import datasets\n",
    "from torchvision.transforms import ToTensor"
   ]
  },
  {
   "cell_type": "code",
   "execution_count": null,
   "id": "ae6a47b6",
   "metadata": {},
   "outputs": [],
   "source": [
    "training_data = datasets.FashionMNIST(\n",
    "    root = \"data\",\n",
    "    train = True,\n",
    "    download = True,\n",
    "    transform = ToTensor()\n",
    ")\n",
    "test_data = datasets.FashionMNIST(\n",
    "    root = \"data\",\n",
    "    train = False, \n",
    "    download = True, \n",
    "    transform = ToTensor()\n",
    ")\n",
    "\n",
    "train_data_loader = DataLoader(training_data, batch_size=32)\n",
    "test_data_loader = DataLoader(test_data, batch_size=32)\n",
    "\n",
    "class NeuralNetwork(nn.Module):\n",
    "    def __init__(self): # Para definir las redes neurolanes se tiene el super heredando de super, despues se hace flatten en este caso para dejarlo en formato vectorial.\n",
    "        super().__init__()\n",
    "        self.flatten = nn.Flatten()\n",
    "        self.linear_relu_stack = nn.Sequential( # Se define la red neuronal, con el modelo secuencial ya que aun no se necesita nada de saltos o conecciones entre capas.\n",
    "            nn.Linear(28*28, 512), \n",
    "            nn.ReLU(),\n",
    "            nn.Linear(512, 256),\n",
    "            nn.ReLU(),\n",
    "            nn.Linear(256, 10), \n",
    "        )\n",
    "    def forward(self, x ): # Para la funcion el forward, se definene los cambios sobre x que se quieran realizar para despues segun la arquitectura que se definio en la variable puntual, se utiliza la predicion.    \n",
    "        x = self.flatten(x)\n",
    "        logits = self.linear_relu_stack(x)\n",
    "        return logits\n",
    "\n"
   ]
  },
  {
   "cell_type": "code",
   "execution_count": null,
   "id": "212684d5",
   "metadata": {},
   "outputs": [],
   "source": []
  },
  {
   "cell_type": "code",
   "execution_count": 7,
   "id": "5736dc26",
   "metadata": {},
   "outputs": [
    {
     "name": "stdout",
     "output_type": "stream",
     "text": [
      "Los             → el\n",
      "gatos           → gato\n",
      "estaban         → estar\n",
      "corriendo       → correr\n",
      "y               → y\n",
      "atrapando       → atrapar\n",
      "ratones         → ratón\n",
      "rápidamente     → rápidamente\n",
      ".               → .\n"
     ]
    }
   ],
   "source": [
    "import spacy\n",
    "\n",
    "# Cargar el modelo de lenguaje en español\n",
    "nlp = spacy.load(\"es_core_news_sm\")\n",
    "\n",
    "# Frase de ejemplo\n",
    "texto = \"Los gatos estaban corriendo y atrapando ratones rápidamente.\"\n",
    "\n",
    "# Procesar el texto\n",
    "doc = nlp(texto)\n",
    "\n",
    "# Mostrar tokens con su lema\n",
    "for token in doc:\n",
    "    print(f\"{token.text:<15} → {token.lemma_}\")"
   ]
  }
 ],
 "metadata": {
  "kernelspec": {
   "display_name": ".venv",
   "language": "python",
   "name": "python3"
  },
  "language_info": {
   "codemirror_mode": {
    "name": "ipython",
    "version": 3
   },
   "file_extension": ".py",
   "mimetype": "text/x-python",
   "name": "python",
   "nbconvert_exporter": "python",
   "pygments_lexer": "ipython3",
   "version": "3.10.12"
  }
 },
 "nbformat": 4,
 "nbformat_minor": 5
}
