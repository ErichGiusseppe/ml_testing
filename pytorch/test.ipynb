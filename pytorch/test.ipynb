{
 "cells": [
  {
   "cell_type": "code",
   "execution_count": 1,
   "id": "bac7d907",
   "metadata": {},
   "outputs": [
    {
     "name": "stdout",
     "output_type": "stream",
     "text": [
      "tensor([[0.7429, 0.1041, 0.9219],\n",
      "        [0.5218, 0.3752, 0.4431],\n",
      "        [0.8787, 0.2789, 0.0386],\n",
      "        [0.3010, 0.2011, 0.6003],\n",
      "        [0.7191, 0.1683, 0.9371]])\n"
     ]
    }
   ],
   "source": [
    "import torch\n",
    "\n",
    "x = torch.rand(5, 3)\n",
    "print(x)"
   ]
  },
  {
   "cell_type": "code",
   "execution_count": 2,
   "id": "8d4f02e4",
   "metadata": {},
   "outputs": [
    {
     "data": {
      "text/plain": [
       "True"
      ]
     },
     "execution_count": 2,
     "metadata": {},
     "output_type": "execute_result"
    }
   ],
   "source": [
    "import torch\n",
    "\n",
    "torch.cuda.is_available()"
   ]
  },
  {
   "cell_type": "markdown",
   "id": "dd12575a",
   "metadata": {},
   "source": [
    "# Tutoriales pytorch"
   ]
  },
  {
   "cell_type": "markdown",
   "id": "6ee3e64b",
   "metadata": {},
   "source": [
    "## How to load data in pytorch"
   ]
  },
  {
   "cell_type": "code",
   "execution_count": 3,
   "id": "57a59dac",
   "metadata": {},
   "outputs": [],
   "source": [
    "import torch\n",
    "from torch import nn\n",
    "from torch.utils.data import DataLoader\n",
    "from torchvision import datasets\n",
    "from torchvision.transforms import ToTensor\n",
    "import matplotlib.pyplot as plt"
   ]
  },
  {
   "cell_type": "code",
   "execution_count": 4,
   "id": "f4907550",
   "metadata": {},
   "outputs": [],
   "source": [
    "train_data = datasets.FashionMNIST(\n",
    "    root=\"../data\", train=True, download=True, transform=ToTensor()\n",
    ")\n",
    "test_data = datasets.FashionMNIST(\n",
    "    root=\"../data\", train=False, download=True, transform=ToTensor()\n",
    ")"
   ]
  },
  {
   "cell_type": "code",
   "execution_count": 18,
   "id": "2c1abe31",
   "metadata": {},
   "outputs": [
    {
     "name": "stdout",
     "output_type": "stream",
     "text": [
      "Shape if X [N,C,H,W] torch.Size([64, 1, 28, 28])\n",
      "Shape if y torch.Size([64])\n",
      "Shape if X [N,C,H,W] torch.Size([64, 1, 28, 28])\n",
      "Shape if y torch.Size([64])\n",
      "Shape if X [N,C,H,W] torch.Size([64, 1, 28, 28])\n",
      "Shape if y torch.Size([64])\n",
      "Shape if X [N,C,H,W] torch.Size([64, 1, 28, 28])\n",
      "Shape if y torch.Size([64])\n",
      "Shape if X [N,C,H,W] torch.Size([64, 1, 28, 28])\n",
      "Shape if y torch.Size([64])\n",
      "Shape if X [N,C,H,W] torch.Size([64, 1, 28, 28])\n",
      "Shape if y torch.Size([64])\n",
      "Shape if X [N,C,H,W] torch.Size([64, 1, 28, 28])\n",
      "Shape if y torch.Size([64])\n",
      "Shape if X [N,C,H,W] torch.Size([64, 1, 28, 28])\n",
      "Shape if y torch.Size([64])\n",
      "Shape if X [N,C,H,W] torch.Size([64, 1, 28, 28])\n",
      "Shape if y torch.Size([64])\n",
      "Shape if X [N,C,H,W] torch.Size([64, 1, 28, 28])\n",
      "Shape if y torch.Size([64])\n",
      "Shape if X [N,C,H,W] torch.Size([64, 1, 28, 28])\n",
      "Shape if y torch.Size([64])\n",
      "Shape if X [N,C,H,W] torch.Size([64, 1, 28, 28])\n",
      "Shape if y torch.Size([64])\n",
      "Shape if X [N,C,H,W] torch.Size([64, 1, 28, 28])\n",
      "Shape if y torch.Size([64])\n",
      "Shape if X [N,C,H,W] torch.Size([64, 1, 28, 28])\n",
      "Shape if y torch.Size([64])\n",
      "Shape if X [N,C,H,W] torch.Size([64, 1, 28, 28])\n",
      "Shape if y torch.Size([64])\n",
      "Shape if X [N,C,H,W] torch.Size([64, 1, 28, 28])\n",
      "Shape if y torch.Size([64])\n",
      "Shape if X [N,C,H,W] torch.Size([64, 1, 28, 28])\n",
      "Shape if y torch.Size([64])\n",
      "Shape if X [N,C,H,W] torch.Size([64, 1, 28, 28])\n",
      "Shape if y torch.Size([64])\n",
      "Shape if X [N,C,H,W] torch.Size([64, 1, 28, 28])\n",
      "Shape if y torch.Size([64])\n",
      "Shape if X [N,C,H,W] torch.Size([64, 1, 28, 28])\n",
      "Shape if y torch.Size([64])\n",
      "Shape if X [N,C,H,W] torch.Size([64, 1, 28, 28])\n",
      "Shape if y torch.Size([64])\n",
      "Shape if X [N,C,H,W] torch.Size([64, 1, 28, 28])\n",
      "Shape if y torch.Size([64])\n",
      "Shape if X [N,C,H,W] torch.Size([64, 1, 28, 28])\n",
      "Shape if y torch.Size([64])\n",
      "Shape if X [N,C,H,W] torch.Size([64, 1, 28, 28])\n",
      "Shape if y torch.Size([64])\n",
      "Shape if X [N,C,H,W] torch.Size([64, 1, 28, 28])\n",
      "Shape if y torch.Size([64])\n",
      "Shape if X [N,C,H,W] torch.Size([64, 1, 28, 28])\n",
      "Shape if y torch.Size([64])\n",
      "Shape if X [N,C,H,W] torch.Size([64, 1, 28, 28])\n",
      "Shape if y torch.Size([64])\n",
      "Shape if X [N,C,H,W] torch.Size([64, 1, 28, 28])\n",
      "Shape if y torch.Size([64])\n",
      "Shape if X [N,C,H,W] torch.Size([64, 1, 28, 28])\n",
      "Shape if y torch.Size([64])\n",
      "Shape if X [N,C,H,W] torch.Size([64, 1, 28, 28])\n",
      "Shape if y torch.Size([64])\n",
      "Shape if X [N,C,H,W] torch.Size([64, 1, 28, 28])\n",
      "Shape if y torch.Size([64])\n",
      "Shape if X [N,C,H,W] torch.Size([64, 1, 28, 28])\n",
      "Shape if y torch.Size([64])\n",
      "Shape if X [N,C,H,W] torch.Size([64, 1, 28, 28])\n",
      "Shape if y torch.Size([64])\n",
      "Shape if X [N,C,H,W] torch.Size([64, 1, 28, 28])\n",
      "Shape if y torch.Size([64])\n",
      "Shape if X [N,C,H,W] torch.Size([64, 1, 28, 28])\n",
      "Shape if y torch.Size([64])\n",
      "Shape if X [N,C,H,W] torch.Size([64, 1, 28, 28])\n",
      "Shape if y torch.Size([64])\n",
      "Shape if X [N,C,H,W] torch.Size([64, 1, 28, 28])\n",
      "Shape if y torch.Size([64])\n",
      "Shape if X [N,C,H,W] torch.Size([64, 1, 28, 28])\n",
      "Shape if y torch.Size([64])\n",
      "Shape if X [N,C,H,W] torch.Size([64, 1, 28, 28])\n",
      "Shape if y torch.Size([64])\n",
      "Shape if X [N,C,H,W] torch.Size([64, 1, 28, 28])\n",
      "Shape if y torch.Size([64])\n",
      "Shape if X [N,C,H,W] torch.Size([64, 1, 28, 28])\n",
      "Shape if y torch.Size([64])\n",
      "Shape if X [N,C,H,W] torch.Size([64, 1, 28, 28])\n",
      "Shape if y torch.Size([64])\n",
      "Shape if X [N,C,H,W] torch.Size([64, 1, 28, 28])\n",
      "Shape if y torch.Size([64])\n",
      "Shape if X [N,C,H,W] torch.Size([64, 1, 28, 28])\n",
      "Shape if y torch.Size([64])\n",
      "Shape if X [N,C,H,W] torch.Size([64, 1, 28, 28])\n",
      "Shape if y torch.Size([64])\n",
      "Shape if X [N,C,H,W] torch.Size([64, 1, 28, 28])\n",
      "Shape if y torch.Size([64])\n",
      "Shape if X [N,C,H,W] torch.Size([64, 1, 28, 28])\n",
      "Shape if y torch.Size([64])\n",
      "Shape if X [N,C,H,W] torch.Size([64, 1, 28, 28])\n",
      "Shape if y torch.Size([64])\n",
      "Shape if X [N,C,H,W] torch.Size([64, 1, 28, 28])\n",
      "Shape if y torch.Size([64])\n",
      "Shape if X [N,C,H,W] torch.Size([64, 1, 28, 28])\n",
      "Shape if y torch.Size([64])\n",
      "Shape if X [N,C,H,W] torch.Size([64, 1, 28, 28])\n",
      "Shape if y torch.Size([64])\n",
      "Shape if X [N,C,H,W] torch.Size([64, 1, 28, 28])\n",
      "Shape if y torch.Size([64])\n",
      "Shape if X [N,C,H,W] torch.Size([64, 1, 28, 28])\n",
      "Shape if y torch.Size([64])\n",
      "Shape if X [N,C,H,W] torch.Size([64, 1, 28, 28])\n",
      "Shape if y torch.Size([64])\n",
      "Shape if X [N,C,H,W] torch.Size([64, 1, 28, 28])\n",
      "Shape if y torch.Size([64])\n",
      "Shape if X [N,C,H,W] torch.Size([64, 1, 28, 28])\n",
      "Shape if y torch.Size([64])\n",
      "Shape if X [N,C,H,W] torch.Size([64, 1, 28, 28])\n",
      "Shape if y torch.Size([64])\n",
      "Shape if X [N,C,H,W] torch.Size([64, 1, 28, 28])\n",
      "Shape if y torch.Size([64])\n",
      "Shape if X [N,C,H,W] torch.Size([64, 1, 28, 28])\n",
      "Shape if y torch.Size([64])\n",
      "Shape if X [N,C,H,W] torch.Size([64, 1, 28, 28])\n",
      "Shape if y torch.Size([64])\n",
      "Shape if X [N,C,H,W] torch.Size([64, 1, 28, 28])\n",
      "Shape if y torch.Size([64])\n",
      "Shape if X [N,C,H,W] torch.Size([64, 1, 28, 28])\n",
      "Shape if y torch.Size([64])\n",
      "Shape if X [N,C,H,W] torch.Size([64, 1, 28, 28])\n",
      "Shape if y torch.Size([64])\n",
      "Shape if X [N,C,H,W] torch.Size([64, 1, 28, 28])\n",
      "Shape if y torch.Size([64])\n",
      "Shape if X [N,C,H,W] torch.Size([64, 1, 28, 28])\n",
      "Shape if y torch.Size([64])\n",
      "Shape if X [N,C,H,W] torch.Size([64, 1, 28, 28])\n",
      "Shape if y torch.Size([64])\n",
      "Shape if X [N,C,H,W] torch.Size([64, 1, 28, 28])\n",
      "Shape if y torch.Size([64])\n",
      "Shape if X [N,C,H,W] torch.Size([64, 1, 28, 28])\n",
      "Shape if y torch.Size([64])\n",
      "Shape if X [N,C,H,W] torch.Size([64, 1, 28, 28])\n",
      "Shape if y torch.Size([64])\n",
      "Shape if X [N,C,H,W] torch.Size([64, 1, 28, 28])\n",
      "Shape if y torch.Size([64])\n",
      "Shape if X [N,C,H,W] torch.Size([64, 1, 28, 28])\n",
      "Shape if y torch.Size([64])\n",
      "Shape if X [N,C,H,W] torch.Size([64, 1, 28, 28])\n",
      "Shape if y torch.Size([64])\n",
      "Shape if X [N,C,H,W] torch.Size([64, 1, 28, 28])\n",
      "Shape if y torch.Size([64])\n",
      "Shape if X [N,C,H,W] torch.Size([64, 1, 28, 28])\n",
      "Shape if y torch.Size([64])\n",
      "Shape if X [N,C,H,W] torch.Size([64, 1, 28, 28])\n",
      "Shape if y torch.Size([64])\n",
      "Shape if X [N,C,H,W] torch.Size([64, 1, 28, 28])\n",
      "Shape if y torch.Size([64])\n",
      "Shape if X [N,C,H,W] torch.Size([64, 1, 28, 28])\n",
      "Shape if y torch.Size([64])\n",
      "Shape if X [N,C,H,W] torch.Size([64, 1, 28, 28])\n",
      "Shape if y torch.Size([64])\n",
      "Shape if X [N,C,H,W] torch.Size([64, 1, 28, 28])\n",
      "Shape if y torch.Size([64])\n",
      "Shape if X [N,C,H,W] torch.Size([64, 1, 28, 28])\n",
      "Shape if y torch.Size([64])\n",
      "Shape if X [N,C,H,W] torch.Size([64, 1, 28, 28])\n",
      "Shape if y torch.Size([64])\n",
      "Shape if X [N,C,H,W] torch.Size([64, 1, 28, 28])\n",
      "Shape if y torch.Size([64])\n",
      "Shape if X [N,C,H,W] torch.Size([64, 1, 28, 28])\n",
      "Shape if y torch.Size([64])\n",
      "Shape if X [N,C,H,W] torch.Size([64, 1, 28, 28])\n",
      "Shape if y torch.Size([64])\n",
      "Shape if X [N,C,H,W] torch.Size([64, 1, 28, 28])\n",
      "Shape if y torch.Size([64])\n",
      "Shape if X [N,C,H,W] torch.Size([64, 1, 28, 28])\n",
      "Shape if y torch.Size([64])\n",
      "Shape if X [N,C,H,W] torch.Size([64, 1, 28, 28])\n",
      "Shape if y torch.Size([64])\n",
      "Shape if X [N,C,H,W] torch.Size([64, 1, 28, 28])\n",
      "Shape if y torch.Size([64])\n",
      "Shape if X [N,C,H,W] torch.Size([64, 1, 28, 28])\n",
      "Shape if y torch.Size([64])\n",
      "Shape if X [N,C,H,W] torch.Size([64, 1, 28, 28])\n",
      "Shape if y torch.Size([64])\n",
      "Shape if X [N,C,H,W] torch.Size([64, 1, 28, 28])\n",
      "Shape if y torch.Size([64])\n",
      "Shape if X [N,C,H,W] torch.Size([64, 1, 28, 28])\n",
      "Shape if y torch.Size([64])\n",
      "Shape if X [N,C,H,W] torch.Size([64, 1, 28, 28])\n",
      "Shape if y torch.Size([64])\n",
      "Shape if X [N,C,H,W] torch.Size([64, 1, 28, 28])\n",
      "Shape if y torch.Size([64])\n",
      "Shape if X [N,C,H,W] torch.Size([64, 1, 28, 28])\n",
      "Shape if y torch.Size([64])\n",
      "Shape if X [N,C,H,W] torch.Size([64, 1, 28, 28])\n",
      "Shape if y torch.Size([64])\n",
      "Shape if X [N,C,H,W] torch.Size([64, 1, 28, 28])\n",
      "Shape if y torch.Size([64])\n",
      "Shape if X [N,C,H,W] torch.Size([64, 1, 28, 28])\n",
      "Shape if y torch.Size([64])\n",
      "Shape if X [N,C,H,W] torch.Size([64, 1, 28, 28])\n",
      "Shape if y torch.Size([64])\n",
      "Shape if X [N,C,H,W] torch.Size([64, 1, 28, 28])\n",
      "Shape if y torch.Size([64])\n",
      "Shape if X [N,C,H,W] torch.Size([64, 1, 28, 28])\n",
      "Shape if y torch.Size([64])\n",
      "Shape if X [N,C,H,W] torch.Size([64, 1, 28, 28])\n",
      "Shape if y torch.Size([64])\n",
      "Shape if X [N,C,H,W] torch.Size([64, 1, 28, 28])\n",
      "Shape if y torch.Size([64])\n",
      "Shape if X [N,C,H,W] torch.Size([64, 1, 28, 28])\n",
      "Shape if y torch.Size([64])\n",
      "Shape if X [N,C,H,W] torch.Size([64, 1, 28, 28])\n",
      "Shape if y torch.Size([64])\n",
      "Shape if X [N,C,H,W] torch.Size([64, 1, 28, 28])\n",
      "Shape if y torch.Size([64])\n",
      "Shape if X [N,C,H,W] torch.Size([64, 1, 28, 28])\n",
      "Shape if y torch.Size([64])\n",
      "Shape if X [N,C,H,W] torch.Size([64, 1, 28, 28])\n",
      "Shape if y torch.Size([64])\n",
      "Shape if X [N,C,H,W] torch.Size([64, 1, 28, 28])\n",
      "Shape if y torch.Size([64])\n",
      "Shape if X [N,C,H,W] torch.Size([64, 1, 28, 28])\n",
      "Shape if y torch.Size([64])\n",
      "Shape if X [N,C,H,W] torch.Size([64, 1, 28, 28])\n",
      "Shape if y torch.Size([64])\n",
      "Shape if X [N,C,H,W] torch.Size([64, 1, 28, 28])\n",
      "Shape if y torch.Size([64])\n",
      "Shape if X [N,C,H,W] torch.Size([64, 1, 28, 28])\n",
      "Shape if y torch.Size([64])\n",
      "Shape if X [N,C,H,W] torch.Size([64, 1, 28, 28])\n",
      "Shape if y torch.Size([64])\n",
      "Shape if X [N,C,H,W] torch.Size([64, 1, 28, 28])\n",
      "Shape if y torch.Size([64])\n",
      "Shape if X [N,C,H,W] torch.Size([64, 1, 28, 28])\n",
      "Shape if y torch.Size([64])\n",
      "Shape if X [N,C,H,W] torch.Size([64, 1, 28, 28])\n",
      "Shape if y torch.Size([64])\n",
      "Shape if X [N,C,H,W] torch.Size([64, 1, 28, 28])\n",
      "Shape if y torch.Size([64])\n",
      "Shape if X [N,C,H,W] torch.Size([64, 1, 28, 28])\n",
      "Shape if y torch.Size([64])\n",
      "Shape if X [N,C,H,W] torch.Size([64, 1, 28, 28])\n",
      "Shape if y torch.Size([64])\n",
      "Shape if X [N,C,H,W] torch.Size([64, 1, 28, 28])\n",
      "Shape if y torch.Size([64])\n",
      "Shape if X [N,C,H,W] torch.Size([64, 1, 28, 28])\n",
      "Shape if y torch.Size([64])\n",
      "Shape if X [N,C,H,W] torch.Size([64, 1, 28, 28])\n",
      "Shape if y torch.Size([64])\n",
      "Shape if X [N,C,H,W] torch.Size([64, 1, 28, 28])\n",
      "Shape if y torch.Size([64])\n",
      "Shape if X [N,C,H,W] torch.Size([64, 1, 28, 28])\n",
      "Shape if y torch.Size([64])\n",
      "Shape if X [N,C,H,W] torch.Size([64, 1, 28, 28])\n",
      "Shape if y torch.Size([64])\n",
      "Shape if X [N,C,H,W] torch.Size([64, 1, 28, 28])\n",
      "Shape if y torch.Size([64])\n",
      "Shape if X [N,C,H,W] torch.Size([64, 1, 28, 28])\n",
      "Shape if y torch.Size([64])\n",
      "Shape if X [N,C,H,W] torch.Size([64, 1, 28, 28])\n",
      "Shape if y torch.Size([64])\n",
      "Shape if X [N,C,H,W] torch.Size([64, 1, 28, 28])\n",
      "Shape if y torch.Size([64])\n",
      "Shape if X [N,C,H,W] torch.Size([64, 1, 28, 28])\n",
      "Shape if y torch.Size([64])\n",
      "Shape if X [N,C,H,W] torch.Size([64, 1, 28, 28])\n",
      "Shape if y torch.Size([64])\n",
      "Shape if X [N,C,H,W] torch.Size([64, 1, 28, 28])\n",
      "Shape if y torch.Size([64])\n",
      "Shape if X [N,C,H,W] torch.Size([64, 1, 28, 28])\n",
      "Shape if y torch.Size([64])\n",
      "Shape if X [N,C,H,W] torch.Size([64, 1, 28, 28])\n",
      "Shape if y torch.Size([64])\n",
      "Shape if X [N,C,H,W] torch.Size([64, 1, 28, 28])\n",
      "Shape if y torch.Size([64])\n",
      "Shape if X [N,C,H,W] torch.Size([64, 1, 28, 28])\n",
      "Shape if y torch.Size([64])\n",
      "Shape if X [N,C,H,W] torch.Size([64, 1, 28, 28])\n",
      "Shape if y torch.Size([64])\n",
      "Shape if X [N,C,H,W] torch.Size([64, 1, 28, 28])\n",
      "Shape if y torch.Size([64])\n",
      "Shape if X [N,C,H,W] torch.Size([64, 1, 28, 28])\n",
      "Shape if y torch.Size([64])\n",
      "Shape if X [N,C,H,W] torch.Size([64, 1, 28, 28])\n",
      "Shape if y torch.Size([64])\n",
      "Shape if X [N,C,H,W] torch.Size([64, 1, 28, 28])\n",
      "Shape if y torch.Size([64])\n",
      "Shape if X [N,C,H,W] torch.Size([64, 1, 28, 28])\n",
      "Shape if y torch.Size([64])\n",
      "Shape if X [N,C,H,W] torch.Size([64, 1, 28, 28])\n",
      "Shape if y torch.Size([64])\n",
      "Shape if X [N,C,H,W] torch.Size([64, 1, 28, 28])\n",
      "Shape if y torch.Size([64])\n",
      "Shape if X [N,C,H,W] torch.Size([64, 1, 28, 28])\n",
      "Shape if y torch.Size([64])\n",
      "Shape if X [N,C,H,W] torch.Size([64, 1, 28, 28])\n",
      "Shape if y torch.Size([64])\n",
      "Shape if X [N,C,H,W] torch.Size([64, 1, 28, 28])\n",
      "Shape if y torch.Size([64])\n",
      "Shape if X [N,C,H,W] torch.Size([64, 1, 28, 28])\n",
      "Shape if y torch.Size([64])\n",
      "Shape if X [N,C,H,W] torch.Size([64, 1, 28, 28])\n",
      "Shape if y torch.Size([64])\n",
      "Shape if X [N,C,H,W] torch.Size([64, 1, 28, 28])\n",
      "Shape if y torch.Size([64])\n",
      "Shape if X [N,C,H,W] torch.Size([64, 1, 28, 28])\n",
      "Shape if y torch.Size([64])\n",
      "Shape if X [N,C,H,W] torch.Size([64, 1, 28, 28])\n",
      "Shape if y torch.Size([64])\n",
      "Shape if X [N,C,H,W] torch.Size([64, 1, 28, 28])\n",
      "Shape if y torch.Size([64])\n",
      "Shape if X [N,C,H,W] torch.Size([64, 1, 28, 28])\n",
      "Shape if y torch.Size([64])\n",
      "Shape if X [N,C,H,W] torch.Size([64, 1, 28, 28])\n",
      "Shape if y torch.Size([64])\n",
      "Shape if X [N,C,H,W] torch.Size([16, 1, 28, 28])\n",
      "Shape if y torch.Size([16])\n"
     ]
    }
   ],
   "source": [
    "batch_size = 64\n",
    "\n",
    "train_dataloader = DataLoader(train_data, batch_size=batch_size)\n",
    "test_dataloader = DataLoader(test_data, batch_size=batch_size)\n",
    "\n",
    "for X, y in test_dataloader:\n",
    "    print(f\"Shape if X [N,C,H,W] {X.shape}\")\n",
    "    print(f\"Shape if y {y.shape}\")"
   ]
  },
  {
   "cell_type": "code",
   "execution_count": 6,
   "id": "a11b89ab",
   "metadata": {},
   "outputs": [
    {
     "data": {
      "image/png": "[encoded data removed]",
      "text/plain": [
       "<Figure size 800x800 with 9 Axes>"
      ]
     },
     "metadata": {},
     "output_type": "display_data"
    }
   ],
   "source": [
    "labels_map = {\n",
    "    0: \"T-Shirt\",\n",
    "    1: \"Trouser\",\n",
    "    2: \"Pullover\",\n",
    "    3: \"Dress\",\n",
    "    4: \"Coat\",\n",
    "    5: \"Sandal\",\n",
    "    6: \"Shirt\",\n",
    "    7: \"Sneaker\",\n",
    "    8: \"Bag\",\n",
    "    9: \"Ankle Boot\",\n",
    "}\n",
    "figure = plt.figure(figsize=(8, 8))\n",
    "cols, rows = 3, 3\n",
    "for i in range(1, cols * rows + 1):\n",
    "    sample_idx = torch.randint(len(train_data), size=(1,)).item()\n",
    "    img, label = train_data[sample_idx]\n",
    "    figure.add_subplot(rows, cols, i)\n",
    "    plt.title(labels_map[label])\n",
    "    plt.axis(\"off\")\n",
    "    plt.imshow(img.squeeze(), cmap=\"gray\")\n",
    "plt.show()"
   ]
  },
  {
   "cell_type": "code",
   "execution_count": 8,
   "id": "0018c708",
   "metadata": {},
   "outputs": [],
   "source": [
    "import os\n",
    "import pandas as pd\n",
    "from torchvision.io import decode_image\n",
    "from torch.utils.data import Dataset\n",
    "\n",
    "# Para no gastar memoria por ejemplo se recomienda cargar imagen por imagen las imagenes del dataset, asegurandonos que la memoria no se llene.\n",
    "class CustomImageDataset(Dataset):\n",
    "    # Esto se crea la primera vez que creamos el init este solo se ejecuta la primera vez que instanciamos la clase\n",
    "    def __init__(\n",
    "        self, annotations_file, img_dir, transform=None, target_transform=None\n",
    "    ):\n",
    "        self.img_labels = pd.read_csv(annotations_file)\n",
    "        self.img_dir = img_dir\n",
    "        self.transform = transform\n",
    "        self.target_transform = target_transform\n",
    "\n",
    "    # El returna el numero de elementos que tenemos\n",
    "    def __len__(self):\n",
    "        return len(self.img_labels)\n",
    "\n",
    "    # El get item retorna un elemento en un indice especifico\n",
    "    def __getitem__(self, idx):\n",
    "        img_path = os.path.join(self.img_dir, self.img_labels.iloc[idx, 0])\n",
    "        image = decode_image(img_path)\n",
    "        label = self.img_labels.iloc[idx, 1]\n",
    "        if self.transform:\n",
    "            image = self.transform(image)\n",
    "        if self.target_transform:\n",
    "            label = self.target_transform(label)\n",
    "        return image, label"
   ]
  },
  {
   "cell_type": "code",
   "execution_count": 9,
   "id": "f19d2b68",
   "metadata": {},
   "outputs": [],
   "source": [
    "from torch.utils.data import DataLoader\n",
    "\n",
    "train_dataloader = DataLoader(train_data, batch_size=64, shuffle=True)\n",
    "test_dataloader = DataLoader(test_data, batch_size=64, shuffle=True)"
   ]
  },
  {
   "cell_type": "code",
   "execution_count": 10,
   "id": "b0bb5e2f",
   "metadata": {},
   "outputs": [
    {
     "name": "stdout",
     "output_type": "stream",
     "text": [
      "Feature batch shape: torch.Size([64, 1, 28, 28])\n",
      "Labels batch shape: torch.Size([64])\n"
     ]
    },
    {
     "data": {
      "image/png": "[encoded data removed]",
      "text/plain": [
       "<Figure size 640x480 with 1 Axes>"
      ]
     },
     "metadata": {},
     "output_type": "display_data"
    },
    {
     "name": "stdout",
     "output_type": "stream",
     "text": [
      "Label: 1\n"
     ]
    }
   ],
   "source": [
    "# Display image and label.\n",
    "train_features, train_labels = next(iter(train_dataloader))\n",
    "print(f\"Feature batch shape: {train_features.size()}\")\n",
    "print(f\"Labels batch shape: {train_labels.size()}\")\n",
    "img = train_features[0].squeeze()\n",
    "label = train_labels[0]\n",
    "plt.imshow(img, cmap=\"gray\")\n",
    "plt.show()\n",
    "print(f\"Label: {label}\")"
   ]
  },
  {
   "cell_type": "markdown",
   "id": "864b7d01",
   "metadata": {},
   "source": [
    "## Creating Models "
   ]
  },
  {
   "cell_type": "code",
   "execution_count": 15,
   "id": "ec51765b",
   "metadata": {},
   "outputs": [
    {
     "name": "stdout",
     "output_type": "stream",
     "text": [
      "Using cuda device\n"
     ]
    }
   ],
   "source": [
    "device = (\n",
    "    torch.accelerator.current_accelerator().type\n",
    "    if torch.accelerator.is_available()\n",
    "    else \"cpu\"\n",
    ")\n",
    "print(f\"Using {device} device\")\n",
    "\n",
    "\n",
    "# Define model\n",
    "class NeuralNetwork(nn.Module):\n",
    "    def __init__(self):  \n",
    "        super().__init__()\n",
    "        self.flatten = nn.Flatten()\n",
    "        self.linear_relu_stack = nn.Sequential(\n",
    "            nn.Linear(28 * 28, 512),\n",
    "            nn.ReLU(),\n",
    "            nn.Linear(512, 512),\n",
    "            nn.ReLU(),\n",
    "            nn.Linear(512, 10) # No se pone softmax porque la funcion de perdida ya lo calcula y si se pusiera estariamos aplicando dos veces softmax\n",
    "        )\n",
    "    def forward(self, x):\n",
    "        x = self.flatten(x)\n",
    "        logits = self.linear_relu_stack(x)\n",
    "        return logits"
   ]
  },
  {
   "cell_type": "code",
   "execution_count": 16,
   "id": "ce859d01",
   "metadata": {},
   "outputs": [
    {
     "name": "stdout",
     "output_type": "stream",
     "text": [
      "NeuralNetwork(\n",
      "  (flatten): Flatten(start_dim=1, end_dim=-1)\n",
      "  (linear_relu_stack): Sequential(\n",
      "    (0): Linear(in_features=784, out_features=512, bias=True)\n",
      "    (1): ReLU()\n",
      "    (2): Linear(in_features=512, out_features=512, bias=True)\n",
      "    (3): ReLU()\n",
      "    (4): Linear(in_features=512, out_features=10, bias=True)\n",
      "  )\n",
      ")\n"
     ]
    }
   ],
   "source": [
    "model = NeuralNetwork().to(device)\n",
    "print(model)"
   ]
  },
  {
   "cell_type": "code",
   "execution_count": null,
   "id": "4f7c305b",
   "metadata": {},
   "outputs": [],
   "source": [
    "train_dataloader = DataLoader(train_data, batch_size=batch_size)\n",
    "test_dataloader = DataLoader(test_data, batch_size=batch_size)"
   ]
  },
  {
   "cell_type": "code",
   "execution_count": 20,
   "id": "ac84e518",
   "metadata": {},
   "outputs": [
    {
     "data": {
      "text/plain": [
       "Dataset FashionMNIST\n",
       "    Number of datapoints: 60000\n",
       "    Root location: ../data\n",
       "    Split: Train\n",
       "    StandardTransform\n",
       "Transform: ToTensor()"
      ]
     },
     "execution_count": 20,
     "metadata": {},
     "output_type": "execute_result"
    }
   ],
   "source": [
    "train_data"
   ]
  },
  {
   "cell_type": "code",
   "execution_count": 19,
   "id": "735714f8",
   "metadata": {},
   "outputs": [
    {
     "data": {
      "text/plain": [
       "<torch.utils.data.dataloader.DataLoader at 0x70f958605270>"
      ]
     },
     "execution_count": 19,
     "metadata": {},
     "output_type": "execute_result"
    }
   ],
   "source": [
    "train_dataloader"
   ]
  },
  {
   "cell_type": "code",
   "execution_count": 17,
   "id": "c0e262cd",
   "metadata": {},
   "outputs": [
    {
     "name": "stdout",
     "output_type": "stream",
     "text": [
      "Predicted class: tensor([9], device='cuda:0')\n"
     ]
    }
   ],
   "source": [
    "X = torch.rand(1, 28, 28, device=device)\n",
    "logits = model(X)\n",
    "pred_probab = nn.Softmax(dim=1)(logits)\n",
    "y_pred = pred_probab.argmax(1)\n",
    "print(f\"Predicted class: {y_pred}\")"
   ]
  }
 ],
 "metadata": {
  "kernelspec": {
   "display_name": ".venv",
   "language": "python",
   "name": "python3"
  },
  "language_info": {
   "codemirror_mode": {
    "name": "ipython",
    "version": 3
   },
   "file_extension": ".py",
   "mimetype": "text/x-python",
   "name": "python",
   "nbconvert_exporter": "python",
   "pygments_lexer": "ipython3",
   "version": "3.10.12"
  }
 },
 "nbformat": 4,
 "nbformat_minor": 5
}
