{
 "cells": [
  {
   "cell_type": "code",
   "execution_count": 19,
   "id": "4993f841",
   "metadata": {},
   "outputs": [
    {
     "data": {
      "text/plain": [
       "{'carro': [1, [1]],\n",
       " 'compra': [1, [3]],\n",
       " 'industrial': [2, [3, 5]],\n",
       " 'libro': [2, [2, 5]],\n",
       " 'máquina': [3, [3, 4, 5]],\n",
       " 'mecánica': [1, [3]],\n",
       " 'nuevo': [2, [2, 5]],\n",
       " 'usado': [3, [1, 2, 4]],\n",
       " 'venta': [3, [1, 2, 4]]}"
      ]
     },
     "execution_count": 19,
     "metadata": {},
     "output_type": "execute_result"
    }
   ],
   "source": [
    "def num_veces(search_string, string):\n",
    "    array_string = string.split(\" \")\n",
    "    cuenta = 0\n",
    "    for sub_string in array_string:\n",
    "        if sub_string == search_string:\n",
    "            cuenta += 1\n",
    "    return cuenta\n",
    "\n",
    "\n",
    "def array_palabras(corpus, vocabulario):\n",
    "    diccionario = {word: [0,[]] for word in vocabulario}\n",
    "    for id_documento in range(len(corpus)):\n",
    "        for word in vocabulario:\n",
    "            if num_veces(word, corpus[id_documento]) > 0:\n",
    "                diccionario[word][1].append(id_documento+1)\n",
    "            diccionario[word][0] = len(diccionario[word][1])\n",
    "    return diccionario\n",
    "\n",
    "def palabra_en_doc(corpus, palabra):\n",
    "    lista = np.zeros(len(corpus), dtype=int) \n",
    "    for id_documento in range(len(corpus)):\n",
    "        lista[id_documento] = num_veces(palabra, corpus[id_documento])\n",
    "    return lista\n",
    "\n",
    "terminos = [\n",
    "    \"carro\",\n",
    "    \"compra\",\n",
    "    \"industrial\",\n",
    "    \"libro\",\n",
    "    \"máquina\",\n",
    "    \"mecánica\",\n",
    "    \"nuevo\",\n",
    "    \"usado\",\n",
    "    \"venta\",\n",
    "]\n",
    "\n",
    "documentos = [\n",
    "    \"venta carro usado\",\n",
    "    \"venta libro usado venta libro nuevo\",\n",
    "    \"compra máquina industrial máquina mecánica\",\n",
    "    \"máquina venta usado\",\n",
    "    \"libro máquina industrial nuevo\"\n",
    "]\n",
    "\n",
    "array_palabras(documentos, terminos)"
   ]
  },
  {
   "cell_type": "code",
   "execution_count": 16,
   "id": "02d49c85",
   "metadata": {},
   "outputs": [
    {
     "data": {
      "text/plain": [
       "array([[0., 0.]])"
      ]
     },
     "execution_count": 16,
     "metadata": {},
     "output_type": "execute_result"
    }
   ],
   "source": [
    "np.zeros((1, len([1,2])))"
   ]
  },
  {
   "cell_type": "code",
   "execution_count": 12,
   "id": "82cd9e79",
   "metadata": {},
   "outputs": [],
   "source": [
    "import numpy as np"
   ]
  },
  {
   "cell_type": "code",
   "execution_count": null,
   "id": "fae25cbb",
   "metadata": {},
   "outputs": [
    {
     "name": "stdout",
     "output_type": "stream",
     "text": [
      "carro [1 0 0 0 0]\n",
      "compra [0 0 1 0 0]\n",
      "industrial [0 0 1 0 1]\n",
      "libro [0 2 0 0 1]\n",
      "máquina [0 0 2 1 1]\n",
      "mecánica [0 0 1 0 0]\n",
      "nuevo [0 1 0 0 1]\n",
      "usado [1 1 0 1 0]\n",
      "venta [1 2 0 1 0]\n"
     ]
    }
   ],
   "source": [
    "#def tf():\n",
    "for word in terminos:\n",
    "    print(word, palabra_en_doc(documentos, word))\n"
   ]
  },
  {
   "cell_type": "code",
   "execution_count": null,
   "id": "72225a4d",
   "metadata": {},
   "outputs": [],
   "source": [
    "def idf(documentos, palabra):\n",
    "    N = len(documentos)\n",
    "    for documento in documentos:\n",
    "        "
   ]
  },
  {
   "cell_type": "code",
   "execution_count": null,
   "id": "fa69f395",
   "metadata": {},
   "outputs": [
    {
     "name": "stdout",
     "output_type": "stream",
     "text": [
      "[[0. 0. 0. 0. 0.]\n",
      " [0. 0. 0. 0. 0.]\n",
      " [0. 0. 0. 0. 0.]\n",
      " [0. 0. 0. 0. 0.]\n",
      " [0. 0. 0. 0. 0.]\n",
      " [0. 0. 0. 0. 0.]\n",
      " [0. 0. 0. 0. 0.]\n",
      " [0. 0. 0. 0. 0.]\n",
      " [0. 0. 0. 0. 0.]]\n",
      "[[0. 0. 0. 0. 0.]\n",
      " [0. 0. 0. 0. 0.]\n",
      " [0. 0. 0. 0. 0.]\n",
      " [0. 0. 0. 0. 0.]\n",
      " [0. 0. 0. 0. 0.]\n",
      " [0. 0. 0. 0. 0.]\n",
      " [0. 0. 0. 0. 0.]\n",
      " [0. 0. 0. 0. 0.]\n",
      " [0. 0. 0. 0. 0.]]\n",
      "[[0. 0. 0. 0. 0.]\n",
      " [0. 0. 0. 0. 0.]\n",
      " [0. 0. 0. 0. 0.]\n",
      " [0. 0. 0. 0. 0.]\n",
      " [0. 0. 0. 0. 0.]\n",
      " [0. 0. 0. 0. 0.]\n",
      " [0. 0. 0. 0. 0.]\n",
      " [0. 0. 0. 0. 0.]\n",
      " [0. 0. 0. 0. 0.]]\n",
      "[[0. 0. 0. 0. 0.]\n",
      " [0. 0. 0. 0. 0.]\n",
      " [0. 0. 0. 0. 0.]\n",
      " [0. 0. 0. 0. 0.]\n",
      " [0. 0. 0. 0. 0.]\n",
      " [0. 0. 0. 0. 0.]\n",
      " [0. 0. 0. 0. 0.]\n",
      " [0. 0. 0. 0. 0.]\n",
      " [0. 0. 0. 0. 0.]]\n",
      "[[0. 0. 0. 0. 0.]\n",
      " [0. 0. 0. 0. 0.]\n",
      " [0. 0. 0. 0. 0.]\n",
      " [0. 0. 0. 0. 0.]\n",
      " [0. 0. 0. 0. 0.]\n",
      " [0. 0. 0. 0. 0.]\n",
      " [0. 0. 0. 0. 0.]\n",
      " [0. 0. 0. 0. 0.]\n",
      " [0. 0. 0. 0. 0.]]\n",
      "[[0. 0. 0. 0. 0.]\n",
      " [0. 0. 0. 0. 0.]\n",
      " [0. 0. 0. 0. 0.]\n",
      " [0. 0. 0. 0. 0.]\n",
      " [0. 0. 0. 0. 0.]\n",
      " [0. 0. 0. 0. 0.]\n",
      " [0. 0. 0. 0. 0.]\n",
      " [0. 0. 0. 0. 0.]\n",
      " [0. 0. 0. 0. 0.]]\n",
      "[[0. 0. 0. 0. 0.]\n",
      " [0. 0. 0. 0. 0.]\n",
      " [0. 0. 0. 0. 0.]\n",
      " [0. 0. 0. 0. 0.]\n",
      " [0. 0. 0. 0. 0.]\n",
      " [0. 0. 0. 0. 0.]\n",
      " [0. 0. 0. 0. 0.]\n",
      " [0. 0. 0. 0. 0.]\n",
      " [0. 0. 0. 0. 0.]]\n",
      "[[0. 0. 0. 0. 0.]\n",
      " [0. 0. 0. 0. 0.]\n",
      " [0. 0. 0. 0. 0.]\n",
      " [0. 0. 0. 0. 0.]\n",
      " [0. 0. 0. 0. 0.]\n",
      " [0. 0. 0. 0. 0.]\n",
      " [0. 0. 0. 0. 0.]\n",
      " [0. 0. 0. 0. 0.]\n",
      " [0. 0. 0. 0. 0.]]\n",
      "[[0. 0. 0. 0. 0.]\n",
      " [0. 0. 0. 0. 0.]\n",
      " [0. 0. 0. 0. 0.]\n",
      " [0. 0. 0. 0. 0.]\n",
      " [0. 0. 0. 0. 0.]\n",
      " [0. 0. 0. 0. 0.]\n",
      " [0. 0. 0. 0. 0.]\n",
      " [0. 0. 0. 0. 0.]\n",
      " [0. 0. 0. 0. 0.]]\n"
     ]
    }
   ],
   "source": [
    "tf_idf = np.zeros((len(terminos), len(documentos)))\n",
    "for word in terminos:\n",
    "\n",
    "    tf = np.log10(1 + palabra_en_doc(documentos, word))\n",
    "\n",
    "    \n",
    "    \n",
    "    \n",
    "    print(tf_idf)\n",
    "    #idf = np.log10(1 + palab)"
   ]
  },
  {
   "cell_type": "code",
   "execution_count": null,
   "id": "199572ee",
   "metadata": {},
   "outputs": [],
   "source": [
    "def matriz_tf_idf():\n",
    "    "
   ]
  }
 ],
 "metadata": {
  "kernelspec": {
   "display_name": ".venv",
   "language": "python",
   "name": "python3"
  },
  "language_info": {
   "codemirror_mode": {
    "name": "ipython",
    "version": 3
   },
   "file_extension": ".py",
   "mimetype": "text/x-python",
   "name": "python",
   "nbconvert_exporter": "python",
   "pygments_lexer": "ipython3",
   "version": "3.10.12"
  }
 },
 "nbformat": 4,
 "nbformat_minor": 5
}
